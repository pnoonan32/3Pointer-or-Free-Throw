{
 "cells": [
  {
   "cell_type": "code",
   "execution_count": 1,
   "metadata": {},
   "outputs": [
    {
     "name": "stdout",
     "output_type": "stream",
     "text": [
      "Enter player name: Minato\n",
      "Enter 3pt attempts you want to take: 6\n",
      "Enter 3pt%: 55\n"
     ]
    }
   ],
   "source": [
    "# Information for 3-Pointer:\n",
    "\n",
    "three_pointer_name = input(\"Enter player name: \")\n",
    "three_pointer_quantity = int( input(\"Enter 3pt attempts you want to take: \") )\n",
    "raw_three_pointer_percentage = int( input(\"Enter 3pt%: \") )    "
   ]
  },
  {
   "cell_type": "code",
   "execution_count": 2,
   "metadata": {},
   "outputs": [
    {
     "name": "stdout",
     "output_type": "stream",
     "text": [
      "Enter player name: Patrick\n",
      "Enter free throw attempts you want to take: 30\n",
      "Enter FT%: 95\n"
     ]
    }
   ],
   "source": [
    "# Information for Free Throw:\n",
    "\n",
    "free_throw_name = input(\"Enter player name: \")\n",
    "free_throw_quantity = int( input(\"Enter free throw attempts you want to take: \") )\n",
    "raw_free_throw_percentage = int( input(\"Enter FT%: \") ) "
   ]
  },
  {
   "cell_type": "code",
   "execution_count": 3,
   "metadata": {},
   "outputs": [
    {
     "name": "stdout",
     "output_type": "stream",
     "text": [
      "Are you better off taking a 3 pointer given the information you provided, or better off taking a free throw attempt?\n"
     ]
    }
   ],
   "source": [
    " print('Are you better off taking a 3 pointer given the information you provided, or better off taking a free throw attempt?')"
   ]
  },
  {
   "cell_type": "code",
   "execution_count": 4,
   "metadata": {},
   "outputs": [],
   "source": [
    "def probability_calculations():\n",
    "    #Convert the percentages to decimals\n",
    "    three_pointer_decimal = raw_three_pointer_percentage / 100\n",
    "    free_throw_decimal = raw_free_throw_percentage / 100\n",
    "    \n",
    "    # Multiply the free throws & 3 point decimals by the raw inputs contingent on the qunatity:\n",
    "    three_pointer_answer = round( ( three_pointer_decimal ** three_pointer_quantity ), 2 ) * 100 \n",
    "    free_throw_answer = round( (free_throw_decimal ** free_throw_quantity), 2 ) * 100\n",
    "  \n",
    "    # Compare free throw to 3 pointer to determine which option is best, given the information proivided by the user\n",
    "    if free_throw_answer > three_pointer_answer:\n",
    "        print(\"Given the information provided by the user, {} has the higher probability with {}% compared to the {}% from {}\"\n",
    "          .format(free_throw_name, free_throw_answer, three_pointer_answer, three_pointer_name))      \n",
    "\n",
    "        \n",
    "    if three_pointer_answer > free_throw_answer:\n",
    "        print(\"Given the information provided by the user, {} has the higher probability with {}% compared to the {}% from {}\"\n",
    "            .format(three_pointer_name, three_pointer_answer, free_throw_answer, free_throw_name))     \n",
    "       "
   ]
  },
  {
   "cell_type": "code",
   "execution_count": 5,
   "metadata": {},
   "outputs": [
    {
     "name": "stdout",
     "output_type": "stream",
     "text": [
      "Original 3-Pointer input:\n",
      "Player Name: Minato\n",
      "Player 3pt%: 55 %\n",
      "Attempted 3-Point Attempts: 6\n"
     ]
    }
   ],
   "source": [
    "print(\"Original 3-Pointer input:\")\n",
    "print(\"Player Name:\", three_pointer_name)\n",
    "print(\"Player 3pt%:\", raw_three_pointer_percentage,\"%\")\n",
    "print(\"Attempted 3-Point Attempts:\", three_pointer_quantity)"
   ]
  },
  {
   "cell_type": "code",
   "execution_count": 6,
   "metadata": {},
   "outputs": [
    {
     "name": "stdout",
     "output_type": "stream",
     "text": [
      "Original Free Throw input:\n",
      "Player Name: Patrick\n",
      "Player FT%: 95 %\n",
      "Attempted Free Throws: 30\n"
     ]
    }
   ],
   "source": [
    "print(\"Original Free Throw input:\")\n",
    "print(\"Player Name:\", free_throw_name)\n",
    "print(\"Player FT%:\", raw_free_throw_percentage,\"%\")\n",
    "print(\"Attempted Free Throws:\", free_throw_quantity)"
   ]
  },
  {
   "cell_type": "code",
   "execution_count": 7,
   "metadata": {},
   "outputs": [
    {
     "name": "stdout",
     "output_type": "stream",
     "text": [
      "Given the information provided by the user, Patrick has the higher probability with 21.0% compared to the Minato% from 3.0\n"
     ]
    }
   ],
   "source": [
    "probability_calculations()"
   ]
  },
  {
   "cell_type": "code",
   "execution_count": null,
   "metadata": {},
   "outputs": [],
   "source": []
  }
 ],
 "metadata": {
  "kernelspec": {
   "display_name": "Python 3",
   "language": "python",
   "name": "python3"
  },
  "language_info": {
   "codemirror_mode": {
    "name": "ipython",
    "version": 3
   },
   "file_extension": ".py",
   "mimetype": "text/x-python",
   "name": "python",
   "nbconvert_exporter": "python",
   "pygments_lexer": "ipython3",
   "version": "3.6.5"
  }
 },
 "nbformat": 4,
 "nbformat_minor": 2
}
