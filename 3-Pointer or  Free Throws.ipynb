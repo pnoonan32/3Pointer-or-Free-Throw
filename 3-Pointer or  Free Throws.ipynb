{
 "cells": [
  {
   "cell_type": "code",
   "execution_count": 1,
   "metadata": {},
   "outputs": [
    {
     "name": "stdout",
     "output_type": "stream",
     "text": [
      "Enter player name: Patrick\n",
      "Enter 3pt attempts you want to take: 5\n",
      "Enter 3pt%: 50\n"
     ]
    }
   ],
   "source": [
    "# Information for 3-Pointer:\n",
    "\n",
    "three_pointer_name = input(\"Enter player name: \")\n",
    "three_pointer_quantity = int( input(\"Enter 3pt attempts you want to take: \") )\n",
    "raw_three_pointer_percentage = int( input(\"Enter 3pt%: \") )    "
   ]
  },
  {
   "cell_type": "code",
   "execution_count": 2,
   "metadata": {},
   "outputs": [
    {
     "name": "stdout",
     "output_type": "stream",
     "text": [
      "Enter player name: Minato\n",
      "Enter free throw attempts you want to take: 30\n",
      "Enter FT%: 85\n"
     ]
    }
   ],
   "source": [
    "# Information for Free Throw:\n",
    "\n",
    "free_throw_name = input(\"Enter player name: \")\n",
    "free_throw_quantity = int( input(\"Enter free throw attempts you want to take: \") )\n",
    "raw_free_throw_percentage = int( input(\"Enter FT%: \") ) "
   ]
  },
  {
   "cell_type": "code",
   "execution_count": 3,
   "metadata": {},
   "outputs": [
    {
     "name": "stdout",
     "output_type": "stream",
     "text": [
      "Are you better off taking a 3 pointer given the information you provided, or better off taking a free throw attempt?\n"
     ]
    }
   ],
   "source": [
    " print('Are you better off taking a 3 pointer given the information you provided, or better off taking a free throw attempt?')"
   ]
  },
  {
   "cell_type": "code",
   "execution_count": 13,
   "metadata": {},
   "outputs": [],
   "source": [
    "def probability_calculations():\n",
    "    #Convert the percentages to decimals\n",
    "    three_pointer_decimal = raw_three_pointer_percentage / 100\n",
    "    free_throw_decimal = raw_free_throw_percentage / 100\n",
    "    \n",
    "    # Multiply the free throws & 3 point decimals by the raw inputs contingent on the qunatity:\n",
    "    three_pointer_answer = round( ( three_pointer_decimal ** three_pointer_quantity ), 2 ) * 100 \n",
    "    free_throw_answer = round( (free_throw_decimal ** free_throw_quantity), 2 ) * 100\n",
    "    \n",
    "    # If answer is less than 1%:\n",
    "    free_throw_answer_unrounded = (free_throw_decimal ** free_throw_quantity) * 100\n",
    "    three_pointer_answer_unrounded = (three_pointer_decimal ** three_pointer_quantity) * 100\n",
    "    \n",
    "    # Compare free throw to 3 pointer to determine which option is best, given the information proivided by the user\n",
    "    if free_throw_answer > three_pointer_answer:\n",
    "        if free_throw_answer < 1:\n",
    "            print( print(\"Given the provided information, {} has the higher probability with a {}% compared to {}% from {} \"\n",
    "              .format(free_throw_name, free_throw_answer_unrounded, three_pointer_answer, three_pointer_name)))\n",
    "            \n",
    "        elif free_throw_answer < 1 and three_pointer_answer < 1:\n",
    "                print(\"Given the provided information, {} has the higher probability with a {}% compared to {}% from {} \"\n",
    "              .format(free_throw_name, free_throw_answer_unrounded, three_pointer_answer_unrounded,three_pointer_name))\n",
    "                \n",
    "        elif free_throw_answer < 1:\n",
    "                print(\"Given the provided information, {} has the higher probability with a {}% compared to {}% from {} \"\n",
    "              .format(free_throw_name, free_throw_answer_unrounded, three_pointer_answer, three_pointer_name))\n",
    "                \n",
    "        elif three_pointer_answer < 1:\n",
    "                print(\"Given the provided information, {} has the higher probability with a {}% compared to {}% from {} \"\n",
    "              .format(free_throw_name, free_throw_answer, three_pointer_answer_unrounded, three_pointer_name))\n",
    "    else:\n",
    "        print(\"Given the provided information, {} has the higher probability with a {}% compared to {}% from {} \"\n",
    "                  .format(free_throw_name, free_throw_answer, three_pointer_answer, three_pointer_name))\n",
    "        \n",
    "        \n",
    "\n",
    "                \n",
    "        \n",
    "\n",
    "        \n",
    "    if three_pointer_answer > free_throw_answer:\n",
    "        if three_pointer_answer < 1:\n",
    "            print( print(\"Given the provided information, {} has the higher probability with a {}% compared to {}% from {} \"\n",
    "              .format(three_pointer_name, three_pointer_answer_unrounded, free_throw_answer, free_throw_name)))\n",
    "            \n",
    "        elif three_pointer_answer < 1 and free_throw_answer < 1:\n",
    "                print(\"Given the provided information, {} has the higher probability with a {}% compared to {}% from {} \"\n",
    "                  .format(three_pointer_name, three_pointer_answer_unrounded, free_throw_answer_unrounded, free_throw_name))\n",
    "                \n",
    "        elif free_throw_answer < 1:\n",
    "                print(\"Given the provided information, {} has the higher probability with a {}% compared to {}% from {} \"\n",
    "                  .format(three_pointer_name, three_pointer_answer, free_throw_answer_unrounded, free_throw_name))\n",
    "                \n",
    "        elif three_pointer_answer < 1:\n",
    "                print(\"Given the provided information, {} has the higher probability with a {}% compared to {}% from {} \"\n",
    "                  .format(three_pointer_name, three_pointer_answer_unrounded, free_throw_answer, free_throw_name))\n",
    "    else:\n",
    "        print(\"Given the provided information, {} has the higher probability with a {}% compared to {}% from {} \"\n",
    "                  .format(three_pointer_name, three_pointer_answer, free_throw_answer, free_throw_name))"
   ]
  },
  {
   "cell_type": "code",
   "execution_count": 14,
   "metadata": {},
   "outputs": [
    {
     "name": "stdout",
     "output_type": "stream",
     "text": [
      "Original 3-Pointer input:\n",
      "Player Name: Patrick\n",
      "Player 3pt%: 50 %\n",
      "Attempted 3-Point Attempts: 5\n"
     ]
    }
   ],
   "source": [
    "print(\"Original 3-Pointer input:\")\n",
    "print(\"Player Name:\", three_pointer_name)\n",
    "print(\"Player 3pt%:\", raw_three_pointer_percentage,\"%\")\n",
    "print(\"Attempted 3-Point Attempts:\", three_pointer_quantity)"
   ]
  },
  {
   "cell_type": "code",
   "execution_count": 15,
   "metadata": {},
   "outputs": [
    {
     "name": "stdout",
     "output_type": "stream",
     "text": [
      "Original Free Throw input:\n",
      "Player Name: Minato\n",
      "Player FT%: 85 %\n",
      "Attempted Free Throws: 30\n"
     ]
    }
   ],
   "source": [
    "print(\"Original Free Throw input:\")\n",
    "print(\"Player Name:\", free_throw_name)\n",
    "print(\"Player FT%:\", raw_free_throw_percentage,\"%\")\n",
    "print(\"Attempted Free Throws:\", free_throw_quantity)"
   ]
  },
  {
   "cell_type": "code",
   "execution_count": 16,
   "metadata": {},
   "outputs": [
    {
     "name": "stdout",
     "output_type": "stream",
     "text": [
      "Given the provided information, Minato has the higher probability with a 1.0% compared to 3.0% from Patrick \n"
     ]
    }
   ],
   "source": [
    "probability_calculations()"
   ]
  },
  {
   "cell_type": "code",
   "execution_count": 18,
   "metadata": {},
   "outputs": [
    {
     "data": {
      "text/plain": [
       "0.7630759594789481"
      ]
     },
     "execution_count": 18,
     "metadata": {},
     "output_type": "execute_result"
    }
   ],
   "source": [
    "(.85 ** 30) * 100"
   ]
  },
  {
   "cell_type": "code",
   "execution_count": null,
   "metadata": {},
   "outputs": [],
   "source": []
  }
 ],
 "metadata": {
  "kernelspec": {
   "display_name": "Python 3",
   "language": "python",
   "name": "python3"
  },
  "language_info": {
   "codemirror_mode": {
    "name": "ipython",
    "version": 3
   },
   "file_extension": ".py",
   "mimetype": "text/x-python",
   "name": "python",
   "nbconvert_exporter": "python",
   "pygments_lexer": "ipython3",
   "version": "3.6.5"
  }
 },
 "nbformat": 4,
 "nbformat_minor": 2
}
